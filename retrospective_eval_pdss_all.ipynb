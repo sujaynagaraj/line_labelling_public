{
 "cells": [
  {
   "cell_type": "code",
   "execution_count": 1,
   "metadata": {},
   "outputs": [
    {
     "name": "stderr",
     "output_type": "stream",
     "text": [
      "2024-04-10 12:41:39.830881: I tensorflow/core/platform/cpu_feature_guard.cc:193] This TensorFlow binary is optimized with oneAPI Deep Neural Network Library (oneDNN) to use the following CPU instructions in performance-critical operations:  AVX2 FMA\n",
      "To enable them in other operations, rebuild TensorFlow with the appropriate compiler flags.\n",
      "2024-04-10 12:41:40.377452: W tensorflow/compiler/xla/stream_executor/platform/default/dso_loader.cc:64] Could not load dynamic library 'libcudart.so.11.0'; dlerror: libcudart.so.11.0: cannot open shared object file: No such file or directory\n",
      "2024-04-10 12:41:40.377480: I tensorflow/compiler/xla/stream_executor/cuda/cudart_stub.cc:29] Ignore above cudart dlerror if you do not have a GPU set up on your machine.\n",
      "2024-04-10 12:41:42.721800: W tensorflow/compiler/xla/stream_executor/platform/default/dso_loader.cc:64] Could not load dynamic library 'libnvinfer.so.7'; dlerror: libnvinfer.so.7: cannot open shared object file: No such file or directory\n",
      "2024-04-10 12:41:42.722270: W tensorflow/compiler/xla/stream_executor/platform/default/dso_loader.cc:64] Could not load dynamic library 'libnvinfer_plugin.so.7'; dlerror: libnvinfer_plugin.so.7: cannot open shared object file: No such file or directory\n",
      "2024-04-10 12:41:42.722285: W tensorflow/compiler/tf2tensorrt/utils/py_utils.cc:38] TF-TRT Warning: Cannot dlopen some TensorRT libraries. If you would like to use Nvidia GPU with TensorRT, please make sure the missing libraries mentioned above are installed properly.\n"
     ]
    }
   ],
   "source": [
    "from evaluation_script_pdss import *\n"
   ]
  },
  {
   "cell_type": "code",
   "execution_count": 4,
   "metadata": {},
   "outputs": [
    {
     "data": {
      "text/plain": [
       "407"
      ]
     },
     "execution_count": 4,
     "metadata": {},
     "output_type": "execute_result"
    }
   ],
   "source": [
    "len(gen_ground_truth_clean_cvp())"
   ]
  },
  {
   "cell_type": "code",
   "execution_count": 5,
   "metadata": {},
   "outputs": [
    {
     "data": {
      "text/plain": [
       "(1641439671, 1656498587)"
      ]
     },
     "execution_count": 5,
     "metadata": {},
     "output_type": "execute_result"
    }
   ],
   "source": [
    "gen_ground_truth_clean_cvp()[0][0], gen_ground_truth_clean_cvp()[-1][1]"
   ]
  },
  {
   "cell_type": "code",
   "execution_count": 4,
   "metadata": {},
   "outputs": [
    {
     "name": "stderr",
     "output_type": "stream",
     "text": [
      "\r",
      "  0%|                                                                                                                                                                                                      | 0/8 [00:00<?, ?it/s]"
     ]
    },
    {
     "name": "stdout",
     "output_type": "stream",
     "text": [
      "random_window_2500.csv\n"
     ]
    },
    {
     "name": "stderr",
     "output_type": "stream",
     "text": [
      "100%|██████████████████████████████████████████████████████████████████████████████████████████████████████████████████████████████████████████████████████████████████████████████████████████████| 8/8 [02:28<00:00, 18.51s/it]\n",
      "  0%|                                                                                                                                                                                                      | 0/6 [00:00<?, ?it/s]"
     ]
    },
    {
     "name": "stdout",
     "output_type": "stream",
     "text": [
      "random_window_2500.csv\n"
     ]
    },
    {
     "name": "stderr",
     "output_type": "stream",
     "text": [
      "100%|██████████████████████████████████████████████████████████████████████████████████████████████████████████████████████████████████████████████████████████████████████████████████████████████| 6/6 [01:19<00:00, 13.25s/it]\n"
     ]
    }
   ],
   "source": [
    "window_size = 20\n",
    "tolerance = 0\n",
    "threshold = 0.5\n",
    "\n",
    "stitched_predictions_abp, stitched_ground_truth_abp = get_predictions(\"abp\", window_size, threshold = threshold, tolerance = tolerance)\n",
    "stitched_predictions_cvp, stitched_ground_truth_cvp = get_predictions(\"cvp\", window_size, threshold = threshold, tolerance = tolerance)\n"
   ]
  },
  {
   "cell_type": "code",
   "execution_count": 5,
   "metadata": {},
   "outputs": [
    {
     "name": "stdout",
     "output_type": "stream",
     "text": [
      "394 284\n",
      "880 406\n",
      "713 297\n",
      "1032 158\n"
     ]
    }
   ],
   "source": [
    "print(len(stitched_predictions_abp[0]), len(stitched_ground_truth_abp[0]))\n",
    "print(len(stitched_predictions_cvp[0]), len(stitched_ground_truth_cvp[0]))\n",
    "\n",
    "print(len(stitched_predictions_abp[1]), len(stitched_ground_truth_abp[1]))\n",
    "print(len(stitched_predictions_cvp[1]), len(stitched_ground_truth_cvp[1]))\n",
    "\n"
   ]
  },
  {
   "cell_type": "code",
   "execution_count": 6,
   "metadata": {},
   "outputs": [],
   "source": [
    "def calculate_summary_metrics(stitched_data, tolerance=30):\n",
    "    \n",
    "    tolerance = datetime.timedelta(hours=tolerance)\n",
    "       # Combine and sort all predictions, converting epochs to datetime objects\n",
    "    all_predictions = [(epoch_to_datetime(start), epoch_to_datetime(stop)) for region in stitched_data for start, stop in region]\n",
    "\n",
    "    # Merge overlapping or closely spaced intervals\n",
    "    merged_predictions = merge_intervals(all_predictions, datetime.timedelta(hours=12))\n",
    "\n",
    "    time_to_first_pos = []\n",
    "    frequency_of_pos = []  # To store frequency of positive events per minute for each region\n",
    "    duration_of_pos = []\n",
    "    \n",
    "\n",
    "    for (region_start, region_end) in tqdm((merged_predictions)):  # Limit to the first 2 regions for testing\n",
    "\n",
    "        first_pos = True\n",
    "        pos_events_count = 0  \n",
    "\n",
    "        for start, stop in stitched_data[0]:\n",
    "            start_dt, stop_dt = epoch_to_datetime(start), epoch_to_datetime(stop)\n",
    "            duration = (stop_dt - start_dt).total_seconds() / 3600\n",
    "            \n",
    "            if start_dt <= region_end and stop_dt >= region_start and duration > 0:\n",
    "                if first_pos:\n",
    "                    #time_to_first_pos.append(duration * 60)  # Convert hours to minutes\n",
    "                    time_to_first_pos.append((start_dt-region_start).total_seconds() / 3600)\n",
    "                    first_pos = False\n",
    "\n",
    "                pos_events_count += 1  # Counting each positive event\n",
    "                duration_of_pos.append(duration)\n",
    "                \n",
    "        # Calculate the total duration of the region in minutes\n",
    "        total_duration_hours = (region_end - region_start).total_seconds() / 60 /60\n",
    "        \n",
    "        # Compute frequency of positive events per minute for the region\n",
    "        if total_duration_hours > 0 and pos_events_count >0:  # Avoid division by zero\n",
    "            frequency = pos_events_count / total_duration_hours\n",
    "            frequency_of_pos.append(frequency)\n",
    "    \n",
    "    return time_to_first_pos, frequency_of_pos, duration_of_pos\n",
    "\n",
    "def filter_and_summary(time_to_first_pos, frequency_of_pos, duration_of_pos, \n",
    "                       percentile_min_gap=5, percentile_max_gap=95, percentile_max_duration=99):\n",
    "    \"\"\"\n",
    "    Filters metrics based on percentiles and computes summary statistics for non-filtered metrics.\n",
    "\n",
    "    Parameters:\n",
    "    - time_to_first_pos: list of times to first positive prediction in minutes.\n",
    "    - frequency_of_pos: list of frequency between positive predictions in events/min.\n",
    "    - duration_of_pos: list of durations of positive predictions in hours.\n",
    "    - percentile_min_gap: percentile for minimum gap cutoff.\n",
    "    - percentile_max_gap: percentile for maximum gap cutoff.\n",
    "    - percentile_max_duration: percentile for maximum duration cutoff in minutes.\n",
    "\n",
    "    Returns:\n",
    "    - summaries: Tuple containing mean and standard deviation of non-filtered metrics.\n",
    "    - filtered_metrics: Filtered metrics based on specified criteria.\n",
    "    \"\"\"\n",
    "    \n",
    "    # Determine percentile-based cutoffs\n",
    "    min_gap_cutoff = np.percentile(time_to_first_pos, percentile_min_gap)\n",
    "    max_gap_cutoff = np.percentile(frequency_of_pos, percentile_max_gap)\n",
    "    max_duration_cutoff = np.percentile([duration * 60 for duration in duration_of_pos], percentile_max_duration)\n",
    "\n",
    "    # Apply filtering based on percentile cutoffs\n",
    "    filtered_time_to_first_pos = [time for time in time_to_first_pos if time <= max_gap_cutoff]\n",
    "    filtered_freqs = [freq for freq in frequency_of_pos if min_gap_cutoff <= freq <= max_gap_cutoff]\n",
    "    filtered_duration = [duration * 60 for duration in duration_of_pos if duration * 60 <= max_duration_cutoff]\n",
    "    \n",
    "    # Compute summary statistics for non-filtered metrics\n",
    "    metrics = [time_to_first_pos, frequency_of_pos, [duration * 60 for duration in duration_of_pos]]\n",
    "    summaries = [(np.mean(metric), np.std(metric)) for metric in metrics]\n",
    "    \n",
    "    # Prepare filtered metrics for plotting or further analysis\n",
    "    filtered_metrics = [filtered_time_to_first_pos, filtered_freqs, filtered_duration]\n",
    "    \n",
    "    return summaries, metrics\n",
    "\n",
    "\n",
    "\n",
    "def plot_data(metrics_abp_pred, metrics_abp_truth, metrics_cvp_pred, metrics_cvp_truth, titles):\n",
    "    fig, axs = plt.subplots(1, len(titles), figsize=(20, 6))  # One row, number of metrics columns\n",
    "    \n",
    "    for i, title in enumerate(titles):\n",
    "        data = [metrics_abp_truth[i], metrics_abp_pred[i], metrics_cvp_truth[i], metrics_cvp_pred[i]]\n",
    "        bplot = axs[i].boxplot(data, patch_artist=True, positions=[1, 2, 4, 5], notch=True)\n",
    "        \n",
    "        # Set colors for each box\n",
    "        colors = ['lightblue', 'lightgreen', 'lightblue', 'lightgreen']\n",
    "        for patch, color in zip(bplot['boxes'], colors):\n",
    "            patch.set_facecolor(color)\n",
    "        \n",
    "        axs[i].set_title(title)\n",
    "        axs[i].set_xticks([1.5, 4.5])\n",
    "        axs[i].set_xticklabels(['ABP', 'CVP'])\n",
    "        \n",
    "        # Creating custom legends\n",
    "        from matplotlib.patches import Patch\n",
    "        legend_elements = [Patch(facecolor='lightblue', label='Ground Truth'),\n",
    "                           Patch(facecolor='lightgreen', label='Prediction')]\n",
    "        axs[i].legend(handles=legend_elements, loc='upper right')\n",
    "    \n",
    "    plt.tight_layout()\n",
    "    plt.show()\n",
    "\n",
    "\n",
    "# Example usage\n",
    "def plot_summary_metrics(stitched_predictions_abp, stitched_ground_truth_abp, stitched_predictions_cvp, stitched_ground_truth_cvp):\n",
    "    # Calculate metrics\n",
    "    metrics_abp_pred = calculate_summary_metrics(stitched_predictions_abp)\n",
    "    metrics_abp_truth = calculate_summary_metrics(stitched_ground_truth_abp)\n",
    "    metrics_cvp_pred = calculate_summary_metrics(stitched_predictions_cvp)\n",
    "    metrics_cvp_truth = calculate_summary_metrics(stitched_ground_truth_cvp)\n",
    "    \n",
    "    # Filter and summarize\n",
    "    summaries_abp_pred, filtered_metrics_abp_pred = filter_and_summary(*metrics_abp_pred)\n",
    "    summaries_abp_truth, filtered_metrics_abp_truth = filter_and_summary(*metrics_abp_truth)\n",
    "    summaries_cvp_pred, filtered_metrics_cvp_pred = filter_and_summary(*metrics_cvp_pred)\n",
    "    summaries_cvp_truth, filtered_metrics_cvp_truth = filter_and_summary(*metrics_cvp_truth)\n",
    "    \n",
    "    # Assuming summaries_abp_pred, summaries_abp_truth, summaries_cvp_pred, summaries_cvp_truth are defined as before\n",
    "    # Modification to create a DataFrame with mean and std in the same cell\n",
    "    summaries = {\n",
    "        'Metric': ['Time to First Pos', 'Frequency of Pos', 'Duration of Pos (Minutes)'],\n",
    "        'ABP Predictions': [f\"{mean:.2f} ± {std:.2f}\" for mean, std in summaries_abp_pred],\n",
    "        'ABP Ground Truth': [f\"{mean:.2f} ± {std:.2f}\" for mean, std in summaries_abp_truth],\n",
    "        'CVP Predictions': [f\"{mean:.2f} ± {std:.2f}\" for mean, std in summaries_cvp_pred],\n",
    "        'CVP Ground Truth': [f\"{mean:.2f} ± {std:.2f}\" for mean, std in summaries_cvp_truth],\n",
    "    }\n",
    "\n",
    "    df_summaries = pd.DataFrame(summaries)\n",
    "    print(df_summaries)\n",
    "    \n",
    "    # Plot data\n",
    "    plot_data(filtered_metrics_abp_pred, filtered_metrics_abp_truth,filtered_metrics_cvp_pred, filtered_metrics_cvp_truth, ['Filtered Freqs', 'Duration of Pos'])\n",
    "    #plot_data(filtered_metrics_cvp_pred, filtered_metrics_cvp_truth, ['Time to First Pos', 'Filtered Gaps', 'Duration of Pos'])"
   ]
  },
  {
   "cell_type": "code",
   "execution_count": 7,
   "metadata": {},
   "outputs": [
    {
     "name": "stderr",
     "output_type": "stream",
     "text": [
      "100%|██████████████████████████████████████████████████████████████████████████████████████████████████████████████████████████████████████████████████████████████████████████████████████████| 32/32 [00:00<00:00, 1889.27it/s]\n",
      "100%|██████████████████████████████████████████████████████████████████████████████████████████████████████████████████████████████████████████████████████████████████████████████████████████| 32/32 [00:00<00:00, 2611.60it/s]\n",
      "100%|███████████████████████████████████████████████████████████████████████████████████████████████████████████████████████████████████████████████████████████████████████████████████████████| 21/21 [00:00<00:00, 828.69it/s]\n",
      "100%|██████████████████████████████████████████████████████████████████████████████████████████████████████████████████████████████████████████████████████████████████████████████████████████| 21/21 [00:00<00:00, 1863.35it/s]\n"
     ]
    },
    {
     "name": "stdout",
     "output_type": "stream",
     "text": [
      "                      Metric ABP Predictions ABP Ground Truth CVP Predictions  \\\n",
      "0          Time to First Pos     1.64 ± 3.24    27.55 ± 36.28     0.02 ± 0.07   \n",
      "1           Frequency of Pos   15.47 ± 40.93      0.18 ± 0.07    5.34 ± 20.28   \n",
      "2  Duration of Pos (Minutes)     1.28 ± 1.52      1.76 ± 1.08     1.76 ± 3.26   \n",
      "\n",
      "  CVP Ground Truth  \n",
      "0      1.19 ± 1.77  \n",
      "1      0.39 ± 0.16  \n",
      "2      2.60 ± 5.37  \n"
     ]
    },
    {
     "data": {
      "image/png": "[encoded data removed]",
      "text/plain": [
       "<Figure size 1440x432 with 2 Axes>"
      ]
     },
     "metadata": {
      "needs_background": "light"
     },
     "output_type": "display_data"
    }
   ],
   "source": [
    " plot_summary_metrics(stitched_predictions_abp, stitched_ground_truth_abp, stitched_predictions_cvp, stitched_ground_truth_cvp)"
   ]
  },
  {
   "cell_type": "code",
   "execution_count": null,
   "metadata": {},
   "outputs": [],
   "source": []
  },
  {
   "cell_type": "code",
   "execution_count": null,
   "metadata": {},
   "outputs": [],
   "source": []
  },
  {
   "cell_type": "code",
   "execution_count": null,
   "metadata": {},
   "outputs": [],
   "source": [
    "# Example test predictions (start_time, end_time, score)\n",
    "test_predictions = [(0, 10, 0.5), (10, 20, 0.7), (20, 30, 0.6)]\n",
    "\n",
    "# Window size and slide length for the smoothing\n",
    "window_size = 20\n",
    "slide_len = 10\n",
    "\n",
    "# Test the Gaussian smoothing\n",
    "smoothed_predictions = smooth(test_predictions, window_size, slide_len, method=\"gaussian\", sigma=1.0)\n",
    "\n",
    "# Display the smoothed predictions\n",
    "for pred in smoothed_predictions:\n",
    "    print(pred)"
   ]
  }
 ],
 "metadata": {
  "kernelspec": {
   "display_name": "linelabel",
   "language": "python",
   "name": "linelabel"
  },
  "language_info": {
   "codemirror_mode": {
    "name": "ipython",
    "version": 3
   },
   "file_extension": ".py",
   "mimetype": "text/x-python",
   "name": "python",
   "nbconvert_exporter": "python",
   "pygments_lexer": "ipython3",
   "version": "3.7.10"
  }
 },
 "nbformat": 4,
 "nbformat_minor": 4
}
