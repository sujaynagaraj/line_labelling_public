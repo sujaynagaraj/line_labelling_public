{
 "cells": [
  {
   "cell_type": "code",
   "execution_count": 4,
   "metadata": {},
   "outputs": [
    {
     "name": "stderr",
     "output_type": "stream",
     "text": [
      "2024-04-10 12:24:08.433748: I tensorflow/core/platform/cpu_feature_guard.cc:193] This TensorFlow binary is optimized with oneAPI Deep Neural Network Library (oneDNN) to use the following CPU instructions in performance-critical operations:  AVX2 FMA\n",
      "To enable them in other operations, rebuild TensorFlow with the appropriate compiler flags.\n",
      "2024-04-10 12:24:08.730852: W tensorflow/compiler/xla/stream_executor/platform/default/dso_loader.cc:64] Could not load dynamic library 'libcudart.so.11.0'; dlerror: libcudart.so.11.0: cannot open shared object file: No such file or directory\n",
      "2024-04-10 12:24:08.730887: I tensorflow/compiler/xla/stream_executor/cuda/cudart_stub.cc:29] Ignore above cudart dlerror if you do not have a GPU set up on your machine.\n",
      "2024-04-10 12:24:10.708714: W tensorflow/compiler/xla/stream_executor/platform/default/dso_loader.cc:64] Could not load dynamic library 'libnvinfer.so.7'; dlerror: libnvinfer.so.7: cannot open shared object file: No such file or directory\n",
      "2024-04-10 12:24:10.708824: W tensorflow/compiler/xla/stream_executor/platform/default/dso_loader.cc:64] Could not load dynamic library 'libnvinfer_plugin.so.7'; dlerror: libnvinfer_plugin.so.7: cannot open shared object file: No such file or directory\n",
      "2024-04-10 12:24:10.708862: W tensorflow/compiler/tf2tensorrt/utils/py_utils.cc:38] TF-TRT Warning: Cannot dlopen some TensorRT libraries. If you would like to use Nvidia GPU with TensorRT, please make sure the missing libraries mentioned above are installed properly.\n"
     ]
    }
   ],
   "source": [
    "import numpy as np\n",
    "import os\n",
    "import pandas as pd\n",
    "from tensorflow.keras.models import load_model\n",
    "import pickle\n",
    "from sklearn.metrics import accuracy_score, precision_score, recall_score, f1_score, confusion_matrix\n",
    "from sklearn.model_selection import KFold\n",
    "import matplotlib.pyplot as plt\n",
    "import seaborn as sns\n",
    "from CNN_1D import *"
   ]
  },
  {
   "cell_type": "code",
   "execution_count": 10,
   "metadata": {},
   "outputs": [
    {
     "name": "stdout",
     "output_type": "stream",
     "text": [
      "10\n",
      "train\n",
      "[[    0  3365]\n",
      " [    1 10653]]\n",
      "10\n",
      "val\n",
      "[[   0 1075]\n",
      " [   1 3585]]\n",
      "10\n",
      "test\n",
      "[[   0 1116]\n",
      " [   1 5112]]\n",
      "20\n",
      "train\n",
      "[[   0 3293]\n",
      " [   1 5196]]\n",
      "20\n",
      "val\n",
      "[[   0 1038]\n",
      " [   1 1485]]\n",
      "20\n",
      "test\n",
      "[[   0 1089]\n",
      " [   1 2771]]\n",
      "30\n",
      "train\n",
      "[[   0 3235]\n",
      " [   1 3752]]\n",
      "30\n",
      "val\n",
      "[[   0 1030]\n",
      " [   1 1158]]\n",
      "30\n",
      "test\n",
      "[[   0 1043]\n",
      " [   1 1236]]\n",
      "60\n",
      "train\n",
      "[[   0 2995]\n",
      " [   1 1778]]\n",
      "60\n",
      "val\n",
      "[[   0 1043]\n",
      " [   1  584]]\n",
      "60\n",
      "test\n",
      "[[  0 968]\n",
      " [  1 490]]\n",
      "100\n",
      "train\n",
      "[[   0 2857]\n",
      " [   1  937]]\n",
      "100\n",
      "val\n",
      "[[  0 912]\n",
      " [  1 140]]\n",
      "100\n",
      "test\n",
      "[[  0 928]\n",
      " [  1 456]]\n",
      "120\n",
      "train\n",
      "[[   0 2748]\n",
      " [   1  619]]\n",
      "120\n",
      "val\n",
      "[[  0 914]\n",
      " [  1 271]]\n",
      "120\n",
      "test\n",
      "[[  0 911]\n",
      " [  1 302]]\n"
     ]
    }
   ],
   "source": [
    "#Dataset Info\n",
    "\n",
    "\n",
    "dataset_dir = \"/home/sujay/PycharmProjects/line_labelling/datasets/cvp/\"\n",
    "\n",
    "# Window sizes to iterate over\n",
    "window_sizes = [1250, 2500, 3750, 7500, 12500, 15000]  # Example window sizes\n",
    "\n",
    "for window_size in window_sizes:\n",
    "    model_path = os.path.join(model_dir, f\"random_window_{window_size}.h5\")\n",
    "    dataset_path = os.path.join(dataset_dir, f\"random_window_{window_size}.pkl\")\n",
    "    \n",
    "    model = load_model(model_path)\n",
    "    data = load_dataset(dataset_path)  # Assuming data is loaded as X, Y\n",
    "    x_train, y_train, x_val, y_val, x_test, y_test = data  # You would adjust this depending on your data structure\n",
    "    \n",
    "    for i,dataset in enumerate([y_train, y_val, y_test]):\n",
    "        #get unique values and counts of each value\n",
    "        unique, counts = np.unique(dataset, return_counts=True)\n",
    "        print(int(window_size/125))\n",
    "        if i == 0:\n",
    "            print(\"train\")\n",
    "        elif i == 1:\n",
    "            print(\"val\")\n",
    "        else:\n",
    "            print(\"test\")\n",
    "        #display unique values and counts side by side\n",
    "        print(np.asarray((unique, counts)).T)\n"
   ]
  },
  {
   "cell_type": "code",
   "execution_count": 2,
   "metadata": {
    "scrolled": false
   },
   "outputs": [],
   "source": [
    "# Function to calculate metrics\n",
    "def calculate_metrics(y_true, y_pred):\n",
    "    accuracy = accuracy_score(y_true, y_pred)\n",
    "    #precision = precision_score(y_true, y_pred)\n",
    "    #recall = recall_score(y_true, y_pred)\n",
    "    #f1 = f1_score(y_true, y_pred)\n",
    "    tn, fp, fn, tp = confusion_matrix(y_true, y_pred).ravel()\n",
    "    tp_rate = tp / (tp + fn) if tp + fn > 0 else 0\n",
    "    tn_rate = tn / (tn + fp) if tn + fp > 0 else 0  # \n",
    "    fp_rate = fp / (fp + tn) if (fp + tn)>0 else 0\n",
    "    fn_rate = fn / (fn + tp) if (fn + tp)>0 else 0\n",
    "    return accuracy*100, tp_rate*100, tn_rate*100, fp_rate*100, fn_rate*100\n",
    "\n",
    "\n",
    "# Split data into n folds and evaluate model\n",
    "def evaluate_model_in_folds(X, Y, model, n_folds=10):\n",
    "    kf = KFold(n_splits=n_folds, shuffle=True)\n",
    "    metrics = np.zeros((n_folds, 5))  # Prepare to store metrics for each fold: accuracy, precision, recall, f1, FPR, FNR\n",
    "    \n",
    "    for i, (train_index, test_index) in enumerate(kf.split(X)):\n",
    "        x_train_fold, x_test_fold = X[train_index], X[test_index]\n",
    "        y_train_fold, y_test_fold = Y[train_index], Y[test_index]\n",
    "        \n",
    "        y_pred_fold = (model.predict(x_test_fold) > 0.5).astype(\"int32\")\n",
    "        metrics[i] = calculate_metrics(y_test_fold, y_pred_fold)\n",
    "    \n",
    "    # Return the mean and standard deviation of the metrics\n",
    "    return metrics.mean(axis=0), metrics.std(axis=0)\n",
    "\n",
    "def plot_metrics_with_error_bars(df, metrics, std_cols, ylabel=\"Metric Value\"):\n",
    "    # Set sans-serif font globally\n",
    "    plt.rcParams['font.family'] = 'sans-serif'\n",
    "    plt.rcParams['font.sans-serif'] = ['Arial', 'Helvetica', 'sans-serif']  # Example of sans-serif fonts\n",
    "\n",
    "    # Pastel palette\n",
    "    colors = ['#ffb3ba', '#ffdfba', '#ffffba', '#baffc9', '#bae1ff']  # Example pastel colors\n",
    "\n",
    "    # Number of groups\n",
    "    n_groups = len(df.index)\n",
    "    fig, ax = plt.subplots(figsize=(10, 5))\n",
    "    index = np.arange(n_groups)  # Array with the number of groups\n",
    "    bar_width = 0.15  # Width of a single bar\n",
    "    opacity = 1.0  # Adjusting opacity for a softer look, suitable for pastel colors\n",
    "\n",
    "    # Adjust this if you have more or fewer metrics to ensure they fit without overlapping\n",
    "    positions = [index + bar_width*i for i in range(len(metrics))]\n",
    "    \n",
    "    for position, metric, std, color in zip(positions, metrics, std_cols, colors * len(metrics)):\n",
    "        y = df[metric]\n",
    "        \n",
    "        if \"FPR\" in metric or \"FNR\" in metric:\n",
    "            y = 1-df[metric]\n",
    "            metric = \"1-\"+metric.replace('Mean ', '')\n",
    "        err = df[std]\n",
    "        ax.bar(position, y, bar_width, alpha=opacity, color=color, label=metric.replace('Mean ', ''),\n",
    "               yerr=err, capsize=5, error_kw={'elinewidth':2, 'capthick':2})\n",
    "    \n",
    "    ax.set_xlabel('Window Size (Seconds)')\n",
    "    ax.set_ylabel(ylabel)\n",
    "    ax.set_title('Model Performance Metrics Across Window Sizes')\n",
    "    ax.set_xticks(index + bar_width / 2 * (len(metrics)-1))  # Adjust the position of the x-ticks\n",
    "    ax.set_xticklabels(df['Window Size (Seconds)'])\n",
    "    if 'Mean Accuracy' in metrics:\n",
    "        ax.set_ylim(0.5, 1.05)\n",
    "    \n",
    "    # Add gridlines\n",
    "    ax.grid(True, which='major', axis='y', linestyle='--', linewidth=0.5, color='grey')\n",
    "\n",
    "    plt.legend()\n",
    "    plt.tight_layout()\n",
    "    plt.show()\n",
    "    \n",
    "def generate_latex_table(results_df, metrics, std_cols, caption=\"Table\", label=\"Label\"):\n",
    "   # Function to format the metric and std values with LaTeX syntax for plus-minus\n",
    "    def format_value_with_pm(val, std):\n",
    "        return f\"{val:.2f} $\\\\pm$ {std:.2f}\".rstrip('0').rstrip('.')\n",
    "    \n",
    "    # Ensure the DataFrame has 'Window Size (Seconds)' for proper labeling\n",
    "    formatted_rows = []\n",
    "    for _, row in results_df.iterrows():\n",
    "        window_size = row['Window Size (Seconds)']\n",
    "        formatted_metrics = [f\"{window_size:.1f}\"]\n",
    "        for metric, std in zip(metrics, std_cols):\n",
    "            formatted_metrics.append(format_value_with_pm(row[metric], row[std]))\n",
    "        formatted_rows.append(\" & \".join(formatted_metrics) + \" \\\\\\\\\")\n",
    "\n",
    "    # Joining all rows\n",
    "    body = \"\\n        \".join(formatted_rows)\n",
    "\n",
    "    # Full LaTeX table format\n",
    "    table_format = f\"\"\"\\\\section{{Results}}\n",
    "\\\\begin{{table}}[htbp]\n",
    "    \\\\centering\n",
    "    \\\\begin{{tabular}}{{{'l' + 'r' * len(metrics)}}}\n",
    "        \\\\toprule\n",
    "        Window Size (Seconds) & {' & '.join(metrics)} \\\\\\\\\n",
    "        \\\\midrule\n",
    "        {body}\n",
    "        \\\\bottomrule\n",
    "    \\\\end{{tabular}}\n",
    "    \\\\caption{{{caption}}}\n",
    "    \\\\label{{tab:{label}}}\n",
    "\\\\end{{table}}\n",
    "\"\"\"\n",
    "\n",
    "    return table_format\n",
    "\n",
    "\n",
    "\n",
    "# Directories\n",
    "model_dir = \"/home/sujay/PycharmProjects/line_labelling/models/abp/\"\n",
    "dataset_dir = \"/home/sujay/PycharmProjects/line_labelling/datasets/abp/\"\n",
    "\n",
    "# Window sizes to iterate over\n",
    "window_sizes = [1250, 2500, 3750, 7500, 12500, 15000]  # Example window sizes\n",
    "\n"
   ]
  },
  {
   "cell_type": "code",
   "execution_count": 8,
   "metadata": {},
   "outputs": [
    {
     "name": "stdout",
     "output_type": "stream",
     "text": [
      "96/96 [==============================] - 0s 3ms/step\n",
      "96/96 [==============================] - 0s 3ms/step\n",
      "96/96 [==============================] - 0s 3ms/step\n",
      "96/96 [==============================] - 0s 3ms/step\n",
      "96/96 [==============================] - 0s 3ms/step\n",
      "48/48 [==============================] - 0s 6ms/step\n",
      "48/48 [==============================] - 0s 5ms/step\n",
      "48/48 [==============================] - 0s 5ms/step\n",
      "48/48 [==============================] - 0s 5ms/step\n",
      "48/48 [==============================] - 0s 5ms/step\n",
      "31/31 [==============================] - 0s 4ms/step\n",
      "31/31 [==============================] - 0s 5ms/step\n",
      "31/31 [==============================] - 0s 5ms/step\n",
      "31/31 [==============================] - 0s 4ms/step\n",
      "31/31 [==============================] - 0s 6ms/step\n",
      "15/15 [==============================] - 0s 5ms/step\n",
      "15/15 [==============================] - 0s 5ms/step\n",
      "15/15 [==============================] - 0s 5ms/step\n",
      "15/15 [==============================] - 0s 6ms/step\n",
      "15/15 [==============================] - 0s 5ms/step\n",
      "6/6 [==============================] - 0s 17ms/step\n",
      "6/6 [==============================] - 0s 17ms/step\n",
      "6/6 [==============================] - 0s 16ms/step\n",
      "6/6 [==============================] - 0s 18ms/step\n",
      "6/6 [==============================] - 0s 17ms/step\n",
      "6/6 [==============================] - 0s 34ms/step\n",
      "6/6 [==============================] - 0s 28ms/step\n",
      "6/6 [==============================] - 0s 33ms/step\n",
      "5/5 [==============================] - 0s 41ms/step\n",
      "5/5 [==============================] - 0s 38ms/step\n"
     ]
    }
   ],
   "source": [
    "# Initialize lists to store summary results\n",
    "results_summary = []\n",
    "\n",
    "for window_size in window_sizes:\n",
    "    model_path = os.path.join(model_dir, f\"random_window_{window_size}.h5\")\n",
    "    dataset_path = os.path.join(dataset_dir, f\"random_window_{window_size}.pkl\")\n",
    "    \n",
    "    model = load_model(model_path)\n",
    "    data = load_dataset(dataset_path)  # Assuming data is loaded as X, Y\n",
    "    _, _, _, _, x_test, y_test = data  # You would adjust this depending on your data structure\n",
    "    \n",
    "    mean_metrics, std_metrics = evaluate_model_in_folds(x_test, y_test, model, n_folds=5)\n",
    "    \n",
    "    # Append results including window size (converted to seconds), mean and std for each metric\n",
    "    results_summary.append([window_size / 125] + list(mean_metrics) + list(std_metrics))\n",
    "\n",
    "# Convert summary results to DataFrame\n",
    "columns = ['Window Size (Seconds)', 'Mean Accuracy','Mean TPR', 'Mean TNR', \"Mean FPR\", \"Mean FNR\",\n",
    "           'Std Accuracy', 'Std TPR', 'Std TNR', 'Std FPR', 'Std FNR']\n",
    "results_df_abp = pd.DataFrame(results_summary, columns=columns)\n"
   ]
  },
  {
   "cell_type": "code",
   "execution_count": 9,
   "metadata": {},
   "outputs": [
    {
     "data": {
      "image/png": "[encoded data removed]",
      "text/plain": [
       "<Figure size 720x360 with 1 Axes>"
      ]
     },
     "metadata": {
      "needs_background": "light"
     },
     "output_type": "display_data"
    },
    {
     "data": {
      "text/plain": [
       "'\\\\section{Results}\\n\\\\begin{table}[htbp]\\n    \\\\centering\\n    \\\\begin{tabular}{lrrrrr}\\n        \\\\toprule\\n        Window Size (Seconds) & Mean Accuracy & Mean TPR & Mean TNR & Mean FPR & Mean FNR \\\\\\\\\\n        \\\\midrule\\n        10.0 & 99.38 $\\\\pm$ 0.09 & 97.87 $\\\\pm$ 0.4 & 99.63 $\\\\pm$ 0.07 & 0.37 $\\\\pm$ 0.07 & 2.13 $\\\\pm$ 0.4 \\\\\\\\\\n        20.0 & 99.40 $\\\\pm$ 0.06 & 99.08 $\\\\pm$ 0.58 & 99.46 $\\\\pm$ 0.14 & 0.54 $\\\\pm$ 0.14 & 0.92 $\\\\pm$ 0.58 \\\\\\\\\\n        30.0 & 99.36 $\\\\pm$ 0.17 & 99.27 $\\\\pm$ 0.91 & 99.38 $\\\\pm$ 0.2 & 0.62 $\\\\pm$ 0.2 & 0.73 $\\\\pm$ 0.91 \\\\\\\\\\n        60.0 & 99.42 $\\\\pm$ 0.41 & 99.19 $\\\\pm$ 0.99 & 99.45 $\\\\pm$ 0.43 & 0.55 $\\\\pm$ 0.43 & 0.81 $\\\\pm$ 0.99 \\\\\\\\\\n        100.0 & 99.05 $\\\\pm$ 0.61 & 93.49 $\\\\pm$ 3.82 & 99.86 $\\\\pm$ 0.28 & 0.14 $\\\\pm$ 0.28 & 6.51 $\\\\pm$ 3.82 \\\\\\\\\\n        120.0 & 98.75 $\\\\pm$ 1.05 & 95.87 $\\\\pm$ 5.08 & 99.03 $\\\\pm$ 0.73 & 0.97 $\\\\pm$ 0.73 & 4.13 $\\\\pm$ 5.08 \\\\\\\\\\n        \\\\bottomrule\\n    \\\\end{tabular}\\n    \\\\caption{Table}\\n    \\\\label{tab:Label}\\n\\\\end{table}\\n'"
      ]
     },
     "execution_count": 9,
     "metadata": {},
     "output_type": "execute_result"
    }
   ],
   "source": [
    "# Metrics excluding FPR and FNR\n",
    "metrics = ['Mean Accuracy', 'Mean TPR', 'Mean TNR', 'Mean FPR',  'Mean FNR']\n",
    "std_cols = ['Std Accuracy', 'Std TPR', 'Std TNR', 'Std FPR', 'Std FNR']\n",
    "\n",
    "# Assuming results_df is your DataFrame containing the data\n",
    "plot_metrics_with_error_bars(results_df_abp, metrics, std_cols)\n",
    "\n",
    "generate_latex_table(results_df_abp, metrics, std_cols)\n"
   ]
  },
  {
   "cell_type": "code",
   "execution_count": 11,
   "metadata": {},
   "outputs": [
    {
     "name": "stdout",
     "output_type": "stream",
     "text": [
      "39/39 [==============================] - 0s 3ms/step\n",
      "39/39 [==============================] - 0s 3ms/step\n",
      "39/39 [==============================] - 0s 3ms/step\n",
      "39/39 [==============================] - 0s 3ms/step\n",
      "39/39 [==============================] - 0s 3ms/step\n",
      "25/25 [==============================] - 0s 6ms/step\n",
      "25/25 [==============================] - 0s 8ms/step\n",
      "25/25 [==============================] - 0s 7ms/step\n",
      "25/25 [==============================] - 0s 7ms/step\n",
      "25/25 [==============================] - 0s 8ms/step\n",
      "15/15 [==============================] - 0s 9ms/step\n",
      "15/15 [==============================] - 0s 9ms/step\n",
      "15/15 [==============================] - 0s 8ms/step\n",
      "15/15 [==============================] - 0s 8ms/step\n",
      "15/15 [==============================] - 0s 9ms/step\n",
      "10/10 [==============================] - 0s 6ms/step\n",
      "10/10 [==============================] - 0s 5ms/step\n",
      "10/10 [==============================] - 0s 6ms/step\n",
      "10/10 [==============================] - 0s 5ms/step\n",
      "10/10 [==============================] - 0s 6ms/step\n",
      "9/9 [==============================] - 0s 9ms/step\n",
      "9/9 [==============================] - 0s 8ms/step\n",
      "9/9 [==============================] - 0s 9ms/step\n",
      "9/9 [==============================] - 0s 8ms/step\n",
      "9/9 [==============================] - 0s 8ms/step\n",
      "8/8 [==============================] - 0s 9ms/step\n",
      "8/8 [==============================] - 0s 9ms/step\n",
      "8/8 [==============================] - 0s 8ms/step\n",
      "8/8 [==============================] - 0s 8ms/step\n",
      "8/8 [==============================] - 0s 7ms/step\n"
     ]
    }
   ],
   "source": [
    "# Directories\n",
    "model_dir = \"/home/sujay/PycharmProjects/line_labelling/models/cvp/\"\n",
    "dataset_dir = \"/home/sujay/PycharmProjects/line_labelling/datasets/cvp/\"\n",
    "\n",
    "# Window sizes to iterate over\n",
    "window_sizes = [1250, 2500, 3750, 7500, 12500, 15000]  # Example window sizes\n",
    "\n",
    "# Initialize lists to store summary results\n",
    "results_summary = []\n",
    "\n",
    "for window_size in window_sizes:\n",
    "    model_path = os.path.join(model_dir, f\"random_window_{window_size}.h5\")\n",
    "    dataset_path = os.path.join(dataset_dir, f\"random_window_{window_size}.pkl\")\n",
    "    \n",
    "    model = load_model(model_path)\n",
    "    data = load_dataset(dataset_path)  # Assuming data is loaded as X, Y\n",
    "    _, _, _, _, x_test, y_test = data  # You would adjust this depending on your data structure\n",
    "    \n",
    "    mean_metrics, std_metrics = evaluate_model_in_folds(x_test, y_test, model, n_folds=5)\n",
    "    \n",
    "    # Append results including window size (converted to seconds), mean and std for each metric\n",
    "    results_summary.append([window_size / 125] + list(mean_metrics) + list(std_metrics))\n",
    "\n",
    "# Convert summary results to DataFrame\n",
    "columns = ['Window Size (Seconds)', 'Mean Accuracy','Mean TPR', 'Mean TNR', \"Mean FPR\", \"Mean FNR\",\n",
    "           'Std Accuracy', 'Std TPR', 'Std TNR', 'Std FPR', 'Std FNR']\n",
    "results_df_cvp = pd.DataFrame(results_summary, columns=columns)"
   ]
  },
  {
   "cell_type": "code",
   "execution_count": 12,
   "metadata": {
    "scrolled": false
   },
   "outputs": [
    {
     "data": {
      "image/png": "[encoded data removed]",
      "text/plain": [
       "<Figure size 720x360 with 1 Axes>"
      ]
     },
     "metadata": {
      "needs_background": "light"
     },
     "output_type": "display_data"
    },
    {
     "data": {
      "text/plain": [
       "'\\\\section{Results}\\n\\\\begin{table}[htbp]\\n    \\\\centering\\n    \\\\begin{tabular}{lrrrrr}\\n        \\\\toprule\\n        Window Size (Seconds) & Mean Accuracy & Mean TPR & Mean TNR & Mean FPR & Mean FNR \\\\\\\\\\n        \\\\midrule\\n        10.0 & 93.85 $\\\\pm$ 0.26 & 96.81 $\\\\pm$ 0.75 & 80.30 $\\\\pm$ 3.18 & 19.70 $\\\\pm$ 3.18 & 3.19 $\\\\pm$ 0.75 \\\\\\\\\\n        20.0 & 80.62 $\\\\pm$ 0.9 & 74.07 $\\\\pm$ 1.44 & 97.39 $\\\\pm$ 1.58 & 2.61 $\\\\pm$ 1.58 & 25.93 $\\\\pm$ 1.44 \\\\\\\\\\n        30.0 & 91.84 $\\\\pm$ 1 & 90.16 $\\\\pm$ 1.94 & 93.77 $\\\\pm$ 0.77 & 6.23 $\\\\pm$ 0.77 & 9.84 $\\\\pm$ 1.94 \\\\\\\\\\n        60.0 & 96.50 $\\\\pm$ 0.66 & 97.36 $\\\\pm$ 1.61 & 96.07 $\\\\pm$ 1.09 & 3.93 $\\\\pm$ 1.09 & 2.64 $\\\\pm$ 1.61 \\\\\\\\\\n        100.0 & 97.11 $\\\\pm$ 0.88 & 97.16 $\\\\pm$ 0.98 & 97.14 $\\\\pm$ 1.09 & 2.86 $\\\\pm$ 1.09 & 2.84 $\\\\pm$ 0.98 \\\\\\\\\\n        120.0 & 97.20 $\\\\pm$ 0.95 & 95.06 $\\\\pm$ 2.01 & 97.92 $\\\\pm$ 0.79 & 2.08 $\\\\pm$ 0.79 & 4.94 $\\\\pm$ 2.01 \\\\\\\\\\n        \\\\bottomrule\\n    \\\\end{tabular}\\n    \\\\caption{Table}\\n    \\\\label{tab:Label}\\n\\\\end{table}\\n'"
      ]
     },
     "execution_count": 12,
     "metadata": {},
     "output_type": "execute_result"
    }
   ],
   "source": [
    "# Metrics excluding FPR and FNR\n",
    "metrics = ['Mean Accuracy', 'Mean TPR', 'Mean TNR', 'Mean FPR',  'Mean FNR']\n",
    "std_cols = ['Std Accuracy', 'Std TPR', 'Std TNR', 'Std FPR', 'Std FNR']\n",
    "\n",
    "# Assuming results_df is your DataFrame containing the data\n",
    "plot_metrics_with_error_bars(results_df_cvp, metrics, std_cols)\n",
    "\n",
    "generate_latex_table(results_df_cvp, metrics, std_cols)\n"
   ]
  },
  {
   "cell_type": "code",
   "execution_count": null,
   "metadata": {},
   "outputs": [],
   "source": []
  },
  {
   "cell_type": "code",
   "execution_count": null,
   "metadata": {},
   "outputs": [],
   "source": []
  }
 ],
 "metadata": {
  "kernelspec": {
   "display_name": "linelabel",
   "language": "python",
   "name": "linelabel"
  },
  "language_info": {
   "codemirror_mode": {
    "name": "ipython",
    "version": 3
   },
   "file_extension": ".py",
   "mimetype": "text/x-python",
   "name": "python",
   "nbconvert_exporter": "python",
   "pygments_lexer": "ipython3",
   "version": "3.7.10"
  }
 },
 "nbformat": 4,
 "nbformat_minor": 4
}
